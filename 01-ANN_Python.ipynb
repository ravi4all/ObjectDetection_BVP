{
 "cells": [
  {
   "cell_type": "code",
   "execution_count": 1,
   "metadata": {},
   "outputs": [],
   "source": [
    "import numpy as np"
   ]
  },
  {
   "cell_type": "code",
   "execution_count": 2,
   "metadata": {},
   "outputs": [],
   "source": [
    "# Input Array\n",
    "X=np.array([[1,0,1,0],[1,0,1,1],[0,1,0,1]])\n",
    "#Output\n",
    "y=np.array([[1],[1],[0]])"
   ]
  },
  {
   "cell_type": "code",
   "execution_count": 3,
   "metadata": {},
   "outputs": [
    {
     "data": {
      "text/plain": [
       "array([[1, 0, 1, 0],\n",
       "       [1, 0, 1, 1],\n",
       "       [0, 1, 0, 1]])"
      ]
     },
     "execution_count": 3,
     "metadata": {},
     "output_type": "execute_result"
    }
   ],
   "source": [
    "X"
   ]
  },
  {
   "cell_type": "code",
   "execution_count": 4,
   "metadata": {},
   "outputs": [],
   "source": [
    "def sigmoid(x):\n",
    "    return 1 / (1 + np.exp(-x))"
   ]
  },
  {
   "cell_type": "code",
   "execution_count": 10,
   "metadata": {},
   "outputs": [],
   "source": [
    "def derivativeSigmoid(x):\n",
    "    return x * (1 - x)"
   ]
  },
  {
   "cell_type": "code",
   "execution_count": 6,
   "metadata": {},
   "outputs": [],
   "source": [
    "inputNeurons = X.shape[1]\n",
    "hiddenNeurons = 3\n",
    "outputNeurons = 1\n",
    "\n",
    "wh = np.random.random(size=(inputNeurons,hiddenNeurons))\n",
    "bh = np.random.random(size=(1,hiddenNeurons))\n",
    "wout = np.random.random(size=(hiddenNeurons,outputNeurons))\n",
    "bout = np.random.random(size=(1,outputNeurons))"
   ]
  },
  {
   "cell_type": "code",
   "execution_count": 7,
   "metadata": {},
   "outputs": [
    {
     "data": {
      "text/plain": [
       "array([[0.82582113, 0.49425071, 0.2141711 ],\n",
       "       [0.34469527, 0.08723362, 0.55839551],\n",
       "       [0.40243086, 0.4203385 , 0.82716574],\n",
       "       [0.70985506, 0.42937575, 0.85294841]])"
      ]
     },
     "execution_count": 7,
     "metadata": {},
     "output_type": "execute_result"
    }
   ],
   "source": [
    "wh"
   ]
  },
  {
   "cell_type": "code",
   "execution_count": 8,
   "metadata": {},
   "outputs": [
    {
     "data": {
      "text/plain": [
       "array([[0.45001451],\n",
       "       [0.52372072],\n",
       "       [0.30212984]])"
      ]
     },
     "execution_count": 8,
     "metadata": {},
     "output_type": "execute_result"
    }
   ],
   "source": [
    "wout"
   ]
  },
  {
   "cell_type": "code",
   "execution_count": 9,
   "metadata": {},
   "outputs": [],
   "source": [
    "epochs = 15000\n",
    "learningRate = 0.01"
   ]
  },
  {
   "cell_type": "code",
   "execution_count": 12,
   "metadata": {},
   "outputs": [],
   "source": [
    "for i in range(epochs):\n",
    "#     Feedforward\n",
    "    hiddenX = X.dot(wh) + bh\n",
    "    hiddenLayer = sigmoid(hiddenX)\n",
    "    outputX = hiddenLayer.dot(wout) + bout\n",
    "    output = sigmoid(outputX)\n",
    "    \n",
    "#     Backpropagation\n",
    "    E = y - output\n",
    "    slopeOutput = derivativeSigmoid(output)\n",
    "    slopeHidden = derivativeSigmoid(hiddenLayer)\n",
    "    \n",
    "    deltaOutput = slopeOutput * E\n",
    "    errorHiddenLayer = deltaOutput.dot(wout.T)\n",
    "    deltaHiddenLayer = slopeHidden * errorHiddenLayer\n",
    "    \n",
    "    wout += hiddenLayer.T.dot(deltaOutput) * learningRate\n",
    "    bout += np.sum(deltaOutput, axis=0, keepdims=True)\n",
    "    wh += X.T.dot(deltaHiddenLayer) * learningRate\n",
    "    bh += np.sum(deltaHiddenLayer, axis=0, keepdims=True)"
   ]
  },
  {
   "cell_type": "code",
   "execution_count": 13,
   "metadata": {},
   "outputs": [
    {
     "data": {
      "text/plain": [
       "array([[0.9488932 ],\n",
       "       [0.95114946],\n",
       "       [0.07190709]])"
      ]
     },
     "execution_count": 13,
     "metadata": {},
     "output_type": "execute_result"
    }
   ],
   "source": [
    "output"
   ]
  },
  {
   "cell_type": "code",
   "execution_count": 14,
   "metadata": {},
   "outputs": [
    {
     "data": {
      "text/plain": [
       "array([[1],\n",
       "       [1],\n",
       "       [0]])"
      ]
     },
     "execution_count": 14,
     "metadata": {},
     "output_type": "execute_result"
    }
   ],
   "source": [
    "y"
   ]
  },
  {
   "cell_type": "code",
   "execution_count": 15,
   "metadata": {},
   "outputs": [
    {
     "data": {
      "text/plain": [
       "array([[ 0.0511068 ],\n",
       "       [ 0.04885054],\n",
       "       [-0.07190709]])"
      ]
     },
     "execution_count": 15,
     "metadata": {},
     "output_type": "execute_result"
    }
   ],
   "source": [
    "E"
   ]
  },
  {
   "cell_type": "code",
   "execution_count": null,
   "metadata": {},
   "outputs": [],
   "source": []
  }
 ],
 "metadata": {
  "kernelspec": {
   "display_name": "Python 3",
   "language": "python",
   "name": "python3"
  },
  "language_info": {
   "codemirror_mode": {
    "name": "ipython",
    "version": 3
   },
   "file_extension": ".py",
   "mimetype": "text/x-python",
   "name": "python",
   "nbconvert_exporter": "python",
   "pygments_lexer": "ipython3",
   "version": "3.7.3"
  }
 },
 "nbformat": 4,
 "nbformat_minor": 2
}
